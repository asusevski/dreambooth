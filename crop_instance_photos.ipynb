{
 "cells": [
  {
   "cell_type": "code",
   "execution_count": 4,
   "id": "dbd38a06",
   "metadata": {},
   "outputs": [],
   "source": [
    "import os\n",
    "from PIL import Image"
   ]
  },
  {
   "cell_type": "code",
   "execution_count": 7,
   "id": "6b3f9558",
   "metadata": {},
   "outputs": [],
   "source": [
    "def process_images(root_dir):\n",
    "    for root, dirs, files in os.walk(root_dir):\n",
    "        for file in files:\n",
    "            file_path = os.path.join(root, file)\n",
    "            if is_image(file_path):\n",
    "                image = Image.open(file_path)\n",
    "                image = center_crop(image, 512)\n",
    "                save_path = os.path.splitext(file_path)[0] + '.jpg'\n",
    "                image = image.convert('RGB')\n",
    "                image.save(save_path, 'JPEG')\n",
    "                print(f\"Processed image: {save_path}\")\n",
    "\n",
    "def is_image(filename):\n",
    "    return filename.lower().endswith(('.png'))\n",
    "    #return filename.lower().endswith(('.png', '.jpg', '.jpeg'))\n",
    "\n",
    "def center_crop(image, size):\n",
    "    width, height = image.size\n",
    "    if width == size and height == size:\n",
    "        return image\n",
    "\n",
    "    new_size = min(width, height)\n",
    "    left = (width - new_size) // 2\n",
    "    top = (height - new_size) // 2\n",
    "    right = left + new_size\n",
    "    bottom = top + new_size\n",
    "    image = image.crop((left, top, right, bottom))\n",
    "    image = image.resize((size, size), Image.ANTIALIAS)\n",
    "    return image\n"
   ]
  },
  {
   "cell_type": "code",
   "execution_count": 9,
   "id": "36b28841",
   "metadata": {
    "scrolled": true
   },
   "outputs": [
    {
     "name": "stdout",
     "output_type": "stream",
     "text": [
      "Processed image: ./instance_images/bella4.jpg\n",
      "Processed image: ./instance_images/bella2.jpg\n",
      "Processed image: ./instance_images/old/bella4.jpg\n",
      "Processed image: ./instance_images/old/bella2.jpg\n"
     ]
    },
    {
     "name": "stderr",
     "output_type": "stream",
     "text": [
      "/tmp/ipykernel_883/943575535.py:28: DeprecationWarning: ANTIALIAS is deprecated and will be removed in Pillow 10 (2023-07-01). Use Resampling.LANCZOS instead.\n",
      "  image = image.resize((size, size), Image.ANTIALIAS)\n"
     ]
    }
   ],
   "source": [
    "# Example usage\n",
    "root_directory = './instance_images'\n",
    "process_images(root_directory)"
   ]
  }
 ],
 "metadata": {
  "kernelspec": {
   "display_name": "Python 3 (ipykernel)",
   "language": "python",
   "name": "python3"
  },
  "language_info": {
   "codemirror_mode": {
    "name": "ipython",
    "version": 3
   },
   "file_extension": ".py",
   "mimetype": "text/x-python",
   "name": "python",
   "nbconvert_exporter": "python",
   "pygments_lexer": "ipython3",
   "version": "3.9.12"
  }
 },
 "nbformat": 4,
 "nbformat_minor": 5
}
